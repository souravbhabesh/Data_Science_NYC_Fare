{
 "cells": [
  {
   "cell_type": "markdown",
   "metadata": {},
   "source": [
    "### EDA of NYC Taxi Fare data in BigQuery Public Dataset and running basic models on it"
   ]
  },
  {
   "cell_type": "code",
   "execution_count": 4,
   "metadata": {},
   "outputs": [],
   "source": [
    "# Import Libraries\n",
    "import google.datalab.bigquery as bq\n",
    "import seaborn as sns\n",
    "import pandas as pd\n",
    "import numpy as np\n",
    "import shutil"
   ]
  },
  {
   "cell_type": "markdown",
   "metadata": {},
   "source": [
    "<h3> Quality control and other preprocessing </h3>\n",
    "\n",
    "We need to do some clean-up of the data:\n",
    "<ol>\n",
    "<li>New York city longitudes are around -74 and latitudes are around 41.</li>\n",
    "<li>We shouldn't have zero passengers.</li>\n",
    "<li>Clean up the total_amount column to reflect only fare_amount and tolls_amount, and then remove those two columns.</li>\n",
    "<li>Before the ride starts, we'll know the pickup and dropoff locations, but not the trip distance (that depends on the route taken), so remove it from the ML dataset</li>\n",
    "<li>Discard the timestamp</li>\n",
    "</ol>\n",
    "\n",
    "<li>Let's change the BigQuery query appropriately.  In production, we'll have to carry out the same preprocessing on the real-time input data.</li>\n",
    "<li>Creating data for training. Function can be used to create validation and testing csv as well </li>"
   ]
  },
  {
   "cell_type": "code",
   "execution_count": 5,
   "metadata": {},
   "outputs": [
    {
     "name": "stdout",
     "output_type": "stream",
     "text": [
      "\n",
      "SELECT\n",
      "  (tolls_amount + fare_amount) AS fare_amount,\n",
      "  pickup_longitude AS pickuplon,\n",
      "  pickup_latitude AS pickuplat,\n",
      "  dropoff_longitude AS dropofflon,\n",
      "  dropoff_latitude AS dropofflat,\n",
      "  passenger_count*1.0 AS passengers\n",
      "FROM\n",
      "  `nyc-tlc.yellow.trips`\n",
      "WHERE\n",
      "  trip_distance > 0\n",
      "  AND fare_amount >= 2.5\n",
      "  AND pickup_longitude > -78\n",
      "  AND pickup_longitude < -70\n",
      "  AND dropoff_longitude > -78\n",
      "  AND dropoff_longitude < -70\n",
      "  AND pickup_latitude > 37\n",
      "  AND pickup_latitude < 45\n",
      "  AND dropoff_latitude > 37\n",
      "  AND dropoff_latitude < 45\n",
      "  AND passenger_count > 0\n",
      "  \n",
      "AND MOD(ABS(FARM_FINGERPRINT(CAST(pickup_datetime AS STRING))), 100) = 1\n",
      "AND MOD(ABS(FARM_FINGERPRINT(CAST(pickup_datetime AS STRING))), 100 * 100) >= (100 * 0)\n",
      " AND MOD(ABS(FARM_FINGERPRINT(CAST(pickup_datetime AS STRING))), 100 * 100) < (100 * 70)\n"
     ]
    }
   ],
   "source": [
    "def sample_between(a, b):\n",
    "    basequery = \"\"\"\n",
    "SELECT\n",
    "  (tolls_amount + fare_amount) AS fare_amount,\n",
    "  pickup_longitude AS pickuplon,\n",
    "  pickup_latitude AS pickuplat,\n",
    "  dropoff_longitude AS dropofflon,\n",
    "  dropoff_latitude AS dropofflat,\n",
    "  passenger_count*1.0 AS passengers\n",
    "FROM\n",
    "  `nyc-tlc.yellow.trips`\n",
    "WHERE\n",
    "  trip_distance > 0\n",
    "  AND fare_amount >= 2.5\n",
    "  AND pickup_longitude > -78\n",
    "  AND pickup_longitude < -70\n",
    "  AND dropoff_longitude > -78\n",
    "  AND dropoff_longitude < -70\n",
    "  AND pickup_latitude > 37\n",
    "  AND pickup_latitude < 45\n",
    "  AND dropoff_latitude > 37\n",
    "  AND dropoff_latitude < 45\n",
    "  AND passenger_count > 0\n",
    "  \"\"\"\n",
    "    sampler = \"AND MOD(ABS(FARM_FINGERPRINT(CAST(pickup_datetime AS STRING))), EVERY_N) = 1\"\n",
    "    sampler2 = \"AND {0} >= {1}\\n AND {0} < {2}\".format(\n",
    "           \"MOD(ABS(FARM_FINGERPRINT(CAST(pickup_datetime AS STRING))), EVERY_N * 100)\",\n",
    "           \"(EVERY_N * {})\".format(a), \"(EVERY_N * {})\".format(b)\n",
    "        )\n",
    "    return \"{}\\n{}\\n{}\".format(basequery, sampler, sampler2)\n",
    "\n",
    "def create_query(phase, EVERY_N):\n",
    "  \"\"\"Phase: train (70%) valid (15%) or test (15%)\"\"\"\n",
    "  query = \"\"\n",
    "  if phase == 'train':\n",
    "    # Training\n",
    "    query = sample_between(0, 70)\n",
    "  elif phase == 'valid':\n",
    "    # Validation\n",
    "    query = sample_between(70, 85)\n",
    "  else:\n",
    "    # Test\n",
    "    query = sample_between(85, 100)\n",
    "  return query.replace(\"EVERY_N\", str(EVERY_N))\n",
    "\n",
    "print create_query('train', 100)"
   ]
  },
  {
   "cell_type": "markdown",
   "metadata": {},
   "source": [
    "<h3> Creating CSV files using the query above </h3>\n",
    "<ol>\n",
    "<li>3 csv files created</li>\n",
    "<li> Train, Validation and Test Datasets</li>\n",
    "</ol>"
   ]
  },
  {
   "cell_type": "code",
   "execution_count": null,
   "metadata": {},
   "outputs": [],
   "source": [
    "def to_csv(df, filename):\n",
    "  outdf = df.copy(deep = False) #copy by reference\n",
    "  outdf.loc[:, 'key'] = np.arange(0, len(outdf)) # rownumber as key\n",
    "  # Reorder columns so that target is first column\n",
    "  cols = outdf.columns.tolist() #column names converted into a list\n",
    "  cols.remove('fare_amount') #just remove target column (fare amount) from column list\n",
    "  cols.insert(0, 'fare_amount') #added back as first column\n",
    "  print cols  # new order of columns\n",
    "  outdf = outdf[cols] #df is reordered\n",
    "  outdf.to_csv(filename, header = False, index_label = False, index = False) #since row number itself is index\n",
    "  print \"Wrote {} to {}\".format(len(outdf), filename)\n",
    "\n",
    "for phase in ['train', 'valid', 'test']:\n",
    "  query = create_query(phase, 100)\n",
    "  df = bq.Query(query).execute().result().to_dataframe()\n",
    "  to_csv(df, 'taxi-{}.csv'.format(phase))"
   ]
  },
  {
   "cell_type": "markdown",
   "metadata": {},
   "source": [
    "<li> Check dataset </li>\n",
    "We have 3 .csv files corresponding to train, valid, test. The ratio of file-sizes correspond to our split of the data."
   ]
  },
  {
   "cell_type": "code",
   "execution_count": 1,
   "metadata": {},
   "outputs": [
    {
     "name": "stdout",
     "output_type": "stream",
     "text": [
      "-rw-r--r-- 1 root root   2041043 Sep  3 01:34 submission_file.csv\r\n",
      "-rw-r--r-- 1 root root  54594507 Sep  3 02:09 taxi-test_10.csv\r\n",
      "-rw-r--r-- 1 root root   5561800 Sep  3 01:21 taxi-test.csv\r\n",
      "-rw-r--r-- 1 root root 254427262 Sep  3 02:06 taxi-train_10.csv\r\n",
      "-rw-r--r-- 1 root root  25255026 Sep  3 01:20 taxi-train.csv\r\n",
      "-rw-r--r-- 1 root root  54578047 Sep  3 02:07 taxi-valid_10.csv\r\n",
      "-rw-r--r-- 1 root root   5478001 Sep  3 01:21 taxi-valid.csv\r\n"
     ]
    }
   ],
   "source": [
    "!ls -l *.csv"
   ]
  },
  {
   "cell_type": "code",
   "execution_count": 2,
   "metadata": {},
   "outputs": [
    {
     "name": "stdout",
     "output_type": "stream",
     "text": [
      "2.5,Tues,0,-74.062177,40.74634,-74.062182,40.746338,5,notneeded\n",
      "2.5,Sat,0,-73.983836,40.749462,-73.984234,40.748696,1,notneeded\n",
      "2.5,Fri,0,-73.948253,40.827172,-73.948253,40.827172,1,notneeded\n",
      "2.5,Thurs,0,-73.954321,40.774416,-73.864849,40.754235,1,notneeded\n",
      "2.5,Sun,0,-73.789579,40.646904,-73.78958,40.646903,1,notneeded\n",
      "2.5,Wed,0,-73.975295,40.759183,-73.97467,40.75878,1,notneeded\n",
      "2.5,Sat,0,-73.914042,40.744448,-73.913387,40.74433,2,notneeded\n",
      "2.5,Thurs,0,-73.989878,40.728763,-73.989377,40.729877,5,notneeded\n",
      "2.5,Sun,0,-74.006815,40.730808,-73.995539,40.74245,1,notneeded\n",
      "2.5,Sun,0,-73.960835,40.761321,-73.961404,40.76272,1,notneeded\n"
     ]
    }
   ],
   "source": [
    "%bash\n",
    "head taxi-test.csv"
   ]
  },
  {
   "cell_type": "markdown",
   "metadata": {},
   "source": [
    "<h3>Simple Benchmark Model</h3>\n",
    "\n",
    "<li>Before we start building complex ML models, it is a good idea to come up with a very simple model and use that as a benchmark.</li>\n",
    "<li>Basic model is going to be to simply divide the mean fare_amount by the mean trip_distance to come up with a rate and use that to predict.</li>\n",
    "<li>Let's compute the RMSE of such a model.</li>"
   ]
  },
  {
   "cell_type": "code",
   "execution_count": 20,
   "metadata": {},
   "outputs": [
    {
     "name": "stderr",
     "output_type": "stream",
     "text": [
      "/usr/local/envs/py2env/lib/python2.7/site-packages/ipykernel/__main__.py:8: RuntimeWarning: invalid value encountered in arccos\n"
     ]
    },
    {
     "name": "stdout",
     "output_type": "stream",
     "text": [
      "Rate = $3.05868550945/km\n",
      "Train RMSE = 18.5446689511\n",
      "Valid RMSE = 18.5216568503\n",
      "Test RMSE = 18.6157651547\n"
     ]
    }
   ],
   "source": [
    "import datalab.bigquery as bq\n",
    "import pandas as pd\n",
    "import numpy as np\n",
    "import shutil\n",
    "\n",
    "def distance_between(lat1, lon1, lat2, lon2):\n",
    "  # Haversine formula to compute distance \"as the crow flies\".  Taxis can't fly of course.\n",
    "  dist = np.degrees(np.arccos(np.sin(np.radians(lat1)) * np.sin(np.radians(lat2)) + np.cos(np.radians(lat1)) * np.cos(np.radians(lat2)) * np.cos(np.radians(lon2 - lon1)))) * 60 * 1.515 * 1.609344\n",
    "  return dist\n",
    "\n",
    "def estimate_distance(df):\n",
    "  return distance_between(df['pickuplat'], df['pickuplon'], df['dropofflat'], df['dropofflon'])\n",
    "\n",
    "def compute_rmse(actual, predicted):\n",
    "  return np.sqrt(np.mean((actual - predicted)**2))\n",
    "\n",
    "def print_rmse(df, rate, name):\n",
    "  print \"{1} RMSE = {0}\".format(compute_rmse(df['fare_amount'], rate * estimate_distance(df)), name) #look at parameters of format \n",
    "\n",
    "FEATURES = ['pickuplon','pickuplat','dropofflon','dropofflat','passengers'] #input features\n",
    "TARGET = 'fare_amount' #prediction label\n",
    "columns = list([TARGET])\n",
    "columns.extend(FEATURES) # in CSV, target is the first column, after the features\n",
    "columns.append('key') #row numbers added at last\n",
    "df_train = pd.read_csv('taxi-train.csv', header = None, names = columns)\n",
    "df_valid = pd.read_csv('taxi-valid.csv', header = None, names = columns)\n",
    "df_test = pd.read_csv('taxi-test.csv', header = None, names = columns)\n",
    "\n",
    "#Calculating trip dist on validation set on which we will predict\n",
    "df_valid['trip_dist']=estimate_distance(df_valid)\n",
    "#df_valid = df_valid.loc[df_valid[\"trip_dist\"]<200]\n",
    "\n",
    "#Training Model\n",
    "#average rate = average fare / average distance travelled\n",
    "rate = df_train['fare_amount'].mean() / estimate_distance(df_train).mean()\n",
    "print \"Rate = ${0}/km\".format(rate)\n",
    "\n",
    "#RMSE using rate calculated above applied to train, validation, test data set\n",
    "print_rmse(df_train, rate, 'Train')\n",
    "print_rmse(df_valid, rate, 'Valid') \n",
    "print_rmse(df_test, rate, 'Test') "
   ]
  },
  {
   "cell_type": "markdown",
   "metadata": {},
   "source": [
    "### Plotting function to draw a line with given slope and intercept"
   ]
  },
  {
   "cell_type": "code",
   "execution_count": 9,
   "metadata": {},
   "outputs": [],
   "source": [
    "def abline(slope, intercept):\n",
    "    \"\"\"Plot a line from slope and intercept\"\"\"\n",
    "    axes = plt.gca()\n",
    "    x_vals = np.array(axes.get_xlim())\n",
    "    y_vals = intercept + slope * x_vals\n",
    "    plt.plot(x_vals, y_vals, '--',color='r')"
   ]
  },
  {
   "cell_type": "markdown",
   "metadata": {},
   "source": [
    "### Basic model fitting plot in red on scatter plot of validation set"
   ]
  },
  {
   "cell_type": "code",
   "execution_count": 10,
   "metadata": {},
   "outputs": [
    {
     "name": "stderr",
     "output_type": "stream",
     "text": [
      "/usr/local/envs/py2env/lib/python2.7/site-packages/matplotlib/font_manager.py:1320: UserWarning: findfont: Font family [u'sans-serif'] not found. Falling back to DejaVu Sans\n",
      "  (prop.get_family(), self.defaultFamily[fontext]))\n"
     ]
    },
    {
     "data": {
      "image/png": "[encoded data removed]",
      "text/plain": [
       "<matplotlib.figure.Figure at 0x7fadbc2dce90>"
      ]
     },
     "metadata": {},
     "output_type": "display_data"
    }
   ],
   "source": [
    "import matplotlib.pyplot as plt\n",
    "#plt.scatter(x=df_train.loc[0:10000,\"trip_dist\"],y=df_train.loc[0:10000,\"fare_amount\"]\n",
    "plt.scatter(x=df_valid[\"trip_dist\"],y=df_valid[\"fare_amount\"])\n",
    "#Draw a line parallel to x axis\n",
    "#plt.axhline(y=rate,color='r')\n",
    "#Draw line with intercept and slope\n",
    "abline(rate,0)\n",
    "plt.xlabel(\"Trip Distance (km)\")\n",
    "plt.ylabel(\"Fare Amount ($)\")\n",
    "plt.show()\n",
    "#ax = sns.scatterplot(x = \"trip_dist\", y = \"fare_amount\", data = df_train.loc[1:1000])"
   ]
  },
  {
   "cell_type": "code",
   "execution_count": null,
   "metadata": {},
   "outputs": [],
   "source": [
    "%bash\n",
    "pwd\n",
    "ls -lrt"
   ]
  },
  {
   "cell_type": "markdown",
   "metadata": {},
   "source": [
    "<h1> Using different ML models using Tensorflow</h1>"
   ]
  },
  {
   "cell_type": "markdown",
   "metadata": {},
   "source": [
    "### Linear Regression"
   ]
  },
  {
   "cell_type": "code",
   "execution_count": 12,
   "metadata": {},
   "outputs": [
    {
     "name": "stdout",
     "output_type": "stream",
     "text": [
      "1.8.0\n"
     ]
    }
   ],
   "source": [
    "import tensorflow as tf\n",
    "print(tf.__version__)"
   ]
  },
  {
   "cell_type": "markdown",
   "metadata": {},
   "source": [
    "<li> We will use the train,valiadation and test csv files created earlier <\\li>"
   ]
  },
  {
   "cell_type": "code",
   "execution_count": 13,
   "metadata": {},
   "outputs": [],
   "source": [
    "# In CSV, label is the first column, after the features, followed by the key\n",
    "CSV_COLUMNS = ['fare_amount', 'pickuplon','pickuplat','dropofflon','dropofflat','passengers', 'key']\n",
    "FEATURES = CSV_COLUMNS[1:len(CSV_COLUMNS) - 1] #Input features to model\n",
    "LABEL = CSV_COLUMNS[0] #Output label\n",
    "\n",
    "#creating data frames\n",
    "df_train = pd.read_csv('./taxi-train.csv', header = None, names = CSV_COLUMNS)\n",
    "df_valid = pd.read_csv('./taxi-valid.csv', header = None, names = CSV_COLUMNS)"
   ]
  },
  {
   "cell_type": "markdown",
   "metadata": {},
   "source": [
    "<h2> Input functions to read from Pandas Dataframe </h2>"
   ]
  },
  {
   "cell_type": "code",
   "execution_count": 14,
   "metadata": {},
   "outputs": [],
   "source": [
    "def make_input_fn(df, num_epochs):\n",
    "  return tf.estimator.inputs.pandas_input_fn(\n",
    "    x = df,\n",
    "    y = df[LABEL], #prediction column, LABEL defined above\n",
    "    batch_size = 128, #number of batches whole df is divided\n",
    "    num_epochs = num_epochs, #number of times the data is used to train\n",
    "    shuffle = True, #Each epoch will have a different data arrangement\n",
    "    queue_capacity = 1000,\n",
    "    num_threads = 1\n",
    "  )\n",
    "#tf.estimator is a library\n",
    "#pandas_input_fn is a function in the inputs sub library"
   ]
  },
  {
   "cell_type": "markdown",
   "metadata": {},
   "source": [
    "Our input function for predictions is the same except we don't provide a label"
   ]
  },
  {
   "cell_type": "code",
   "execution_count": 15,
   "metadata": {},
   "outputs": [],
   "source": [
    "def make_prediction_input_fn(df, num_epochs):\n",
    "  return tf.estimator.inputs.pandas_input_fn(\n",
    "    x = df,\n",
    "    y = None,\n",
    "    batch_size = 128,\n",
    "    num_epochs = num_epochs,\n",
    "    shuffle = True,\n",
    "    queue_capacity = 1000,\n",
    "    num_threads = 1\n",
    "  )"
   ]
  },
  {
   "cell_type": "markdown",
   "metadata": {},
   "source": [
    "### Create feature columns for estimator"
   ]
  },
  {
   "cell_type": "code",
   "execution_count": 16,
   "metadata": {},
   "outputs": [],
   "source": [
    "def make_feature_cols():\n",
    "  #Telling tf that the input features are numeric columns\n",
    "  input_columns = [tf.feature_column.numeric_column(k) for k in FEATURES]#list comprehension\n",
    "  return input_columns"
   ]
  },
  {
   "cell_type": "markdown",
   "metadata": {},
   "source": [
    "<h3> Linear Regression with tf.Estimator framework </h3>"
   ]
  },
  {
   "cell_type": "code",
   "execution_count": null,
   "metadata": {
    "hiddenCell": true
   },
   "outputs": [],
   "source": [
    "tf.logging.set_verbosity(tf.logging.INFO)\n",
    "\n",
    "#making new dir\n",
    "OUTDIR = 'taxi_trained'\n",
    "#In each new rerun remove old dir and make new dir\n",
    "shutil.rmtree(OUTDIR, ignore_errors = True) # start fresh each time\n",
    "\n",
    "model_lr = tf.estimator.LinearRegressor(\n",
    "      feature_columns = make_feature_cols(), model_dir = OUTDIR)\n",
    "\n",
    "model_lr.train(input_fn = make_input_fn(df_train, num_epochs = 10))"
   ]
  },
  {
   "cell_type": "markdown",
   "metadata": {},
   "source": [
    "<h2>Evaluate on the validation data (we should defer using the test data to after we have selected a final model). </h2>\n",
    "<li>Linear Rgeressor Optimization function:</li>\n",
    "<li>L = 1/2m * sum(y-Y)^2</li>\n",
    "<li>RMSE = sqrt(L)</li>"
   ]
  },
  {
   "cell_type": "code",
   "execution_count": null,
   "metadata": {},
   "outputs": [],
   "source": [
    "def print_rmse(model, name, df):\n",
    "  metrics = model.evaluate(input_fn = make_input_fn(df, 1))\n",
    "  #different types of metrics in metrics dic, we look at average loss \n",
    "  print('RMSE on {} dataset = {}'.format(name, np.sqrt(metrics['average_loss'])))\n",
    "print_rmse(model_lr, 'validation', df_valid)"
   ]
  },
  {
   "cell_type": "markdown",
   "metadata": {},
   "source": [
    "### We make prediction on validation dataset next"
   ]
  },
  {
   "cell_type": "code",
   "execution_count": null,
   "metadata": {},
   "outputs": [],
   "source": [
    "#y_predict = model.predict(df_valid)\n",
    "predictions = model_lr.predict(input_fn = make_prediction_input_fn(df_valid, 1))\n",
    "predict = []\n",
    "for i in range(len(df_valid)):\n",
    "  predict.append(predictions.next()['predictions'][0]) #list\n",
    "  #print(predictions.next())"
   ]
  },
  {
   "cell_type": "code",
   "execution_count": null,
   "metadata": {},
   "outputs": [],
   "source": [
    "plt.scatter(df_valid[\"fare_amount\"],predict,s=10)\n",
    "#Plot showing exact prediction\n",
    "abline(1,0)\n",
    "plt.xlabel(\"Actual Fare Amount\")\n",
    "plt.ylabel(\"Predicted Fare Amount\")\n",
    "plt.show()"
   ]
  },
  {
   "cell_type": "code",
   "execution_count": null,
   "metadata": {},
   "outputs": [],
   "source": [
    "plt.scatter(df_valid[\"fare_amount\"],predict,s=10)\n",
    "plt.xlim((0,30))\n",
    "plt.ylim((10,12.5))\n",
    "plt.xlabel(\"Actual Fare Amount\")\n",
    "plt.ylabel(\"Predicted Fare Amount\")\n",
    "plt.show()"
   ]
  },
  {
   "cell_type": "markdown",
   "metadata": {},
   "source": [
    "Model is predicting around $4 for all.\n",
    "predictions is a generator object. \n",
    "to save predictions make another list and append\n",
    "<li> This explains why the RMSE was so high -- the model essentially predicts the same amount for every trip. </li>\n",
    "<li>Would a more complex model help? Let's try using a deep neural network.  The code to do this is quite straightforward as well.</li>"
   ]
  },
  {
   "cell_type": "code",
   "execution_count": null,
   "metadata": {},
   "outputs": [],
   "source": [
    "for k in range(10):\n",
    "  print predict[k]"
   ]
  },
  {
   "cell_type": "code",
   "execution_count": null,
   "metadata": {},
   "outputs": [],
   "source": []
  },
  {
   "cell_type": "markdown",
   "metadata": {},
   "source": [
    "<h3> Deep Neural Network regression </h3>"
   ]
  },
  {
   "cell_type": "code",
   "execution_count": null,
   "metadata": {
    "hiddenCell": true
   },
   "outputs": [],
   "source": [
    "tf.logging.set_verbosity(tf.logging.INFO)\n",
    "shutil.rmtree(OUTDIR, ignore_errors = True) # start fresh each time\n",
    "model_dnn = tf.estimator.DNNRegressor(hidden_units = [32, 8, 2], #3 hidden layers\n",
    "      feature_columns = make_feature_cols(), model_dir = OUTDIR)\n",
    "model_dnn.train(input_fn = make_input_fn(df_train, num_epochs = 100));\n",
    "print_rmse(model_dnn, 'validation', df_valid)"
   ]
  },
  {
   "cell_type": "markdown",
   "metadata": {},
   "source": [
    "### Saving predictions from DNN"
   ]
  },
  {
   "cell_type": "code",
   "execution_count": 111,
   "metadata": {},
   "outputs": [
    {
     "name": "stdout",
     "output_type": "stream",
     "text": [
      "INFO:tensorflow:Calling model_fn.\n",
      "INFO:tensorflow:Done calling model_fn.\n",
      "INFO:tensorflow:Graph was finalized.\n",
      "INFO:tensorflow:Restoring parameters from taxi_trained/model.ckpt-596742\n",
      "INFO:tensorflow:Running local_init_op.\n",
      "INFO:tensorflow:Done running local_init_op.\n"
     ]
    }
   ],
   "source": [
    "#y_predict = model.predict(df_valid)\n",
    "predictions_dnn = model_dnn.predict(input_fn = make_prediction_input_fn(df_valid, 1))\n",
    "predict_dnn = []\n",
    "for i in range(len(df_valid)):\n",
    "  predict_dnn.append(predictions_dnn.next()['predictions'][0]) #list\n",
    "  #print(predictions.next())"
   ]
  },
  {
   "cell_type": "code",
   "execution_count": 112,
   "metadata": {},
   "outputs": [
    {
     "data": {
      "image/png": "[encoded data removed]",
      "text/plain": [
       "<matplotlib.figure.Figure at 0x7f1f4c4d8fd0>"
      ]
     },
     "metadata": {},
     "output_type": "display_data"
    }
   ],
   "source": [
    "plt.scatter(df_valid[\"fare_amount\"],predict_dnn,s=10)\n",
    "#Plot showing exact prediction\n",
    "abline(1,0)\n",
    "plt.xlabel(\"Actual Fare Amount\")\n",
    "plt.ylabel(\"Predicted Fare Amount\")\n",
    "plt.show()"
   ]
  },
  {
   "cell_type": "code",
   "execution_count": 113,
   "metadata": {},
   "outputs": [
    {
     "data": {
      "image/png": "[encoded data removed]",
      "text/plain": [
       "<matplotlib.figure.Figure at 0x7f1f4c4d4ed0>"
      ]
     },
     "metadata": {},
     "output_type": "display_data"
    }
   ],
   "source": [
    "plt.scatter(df_valid[\"fare_amount\"],predict_dnn,s=10)\n",
    "plt.xlim((0,30))\n",
    "plt.ylim((10,12.5))\n",
    "plt.xlabel(\"Actual Fare Amount\")\n",
    "plt.ylabel(\"Predicted Fare Amount\")\n",
    "plt.show()"
   ]
  },
  {
   "cell_type": "markdown",
   "metadata": {},
   "source": [
    "So far we have tried three models on this dataset\n",
    "\n",
    "<li>Simple Basic Model Valid RMSE = 18.5216568503</li>\n",
    "<li>LinearRegressor Model validation dataset RMSE = 9.49565601349</li>\n",
    "<li>DNNRegressor Model validation dataset RMSE = 9.49077415466</li>"
   ]
  },
  {
   "cell_type": "code",
   "execution_count": null,
   "metadata": {},
   "outputs": [],
   "source": []
  }
 ],
 "metadata": {
  "kernelspec": {
   "display_name": "Python 2",
   "language": "python",
   "name": "python2"
  },
  "language_info": {
   "codemirror_mode": {
    "name": "ipython",
    "version": 2
   },
   "file_extension": ".py",
   "mimetype": "text/x-python",
   "name": "python",
   "nbconvert_exporter": "python",
   "pygments_lexer": "ipython2",
   "version": "2.7.15"
  }
 },
 "nbformat": 4,
 "nbformat_minor": 2
}
