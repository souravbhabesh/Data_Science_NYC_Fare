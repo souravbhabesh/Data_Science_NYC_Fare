{
 "cells": [
  {
   "cell_type": "markdown",
   "metadata": {},
   "source": [
    "# Scaling up ML using Cloud ML Engine\n",
    "\n",
    "<li>In this notebook, we take a previously developed TensorFlow model to predict taxifare rides and package it up so that it can be run in Cloud MLE.<\\li>\n",
    "<li>This notebook illustrates *how* to package up a TensorFlow model to run it within Google Cloud ML. </li>\n",
    "<li>This will give speed (you can choose number of CPUs to run on) as opposed to running a datalab on a single CPU </li>\n",
    "<li>Actual estimator code has been shifted to a single file model.py and functions defined in it are called usig task.py which the Cloud ML Engine runs <\\li>"
   ]
  },
  {
   "cell_type": "markdown",
   "metadata": {},
   "source": [
    "## Environment variables for project and bucket\n",
    "\n",
    "Note that:\n",
    "<ol>\n",
    "<li> Your project id is the *unique* string that identifies your project (not the project name). You can find this from the GCP Console dashboard's Home page.  My dashboard reads:  <b>Project ID:</b> nyc-taxi-fare-project </li>\n",
    "<li> Cloud training often involves saving and restoring model files. Create bucket from the GCP console (because it will dynamically check whether the bucket name you want is available). </li>\n",
    "</ol>\n",
    "\n"
   ]
  },
  {
   "cell_type": "code",
   "execution_count": 1,
   "metadata": {},
   "outputs": [],
   "source": [
    "import os\n",
    "PROJECT = 'nyc-taxi-fare-project' # REPLACE WITH YOUR PROJECT ID\n",
    "BUCKET = 'nyc_taxi_fare_cloud_run' # REPLACE WITH YOUR BUCKET NAME\n",
    "REGION = 'us-east1' # REPLACE WITH YOUR BUCKET REGION e.g. us-central1"
   ]
  },
  {
   "cell_type": "code",
   "execution_count": 2,
   "metadata": {},
   "outputs": [],
   "source": [
    "# For Python Code\n",
    "# Model Info\n",
    "MODEL_NAME = 'taxifare'\n",
    "# Model Version\n",
    "MODEL_VERSION = 'v1'\n",
    "# Training Directory name\n",
    "TRAINING_DIR = 'taxi_trained'"
   ]
  },
  {
   "cell_type": "code",
   "execution_count": 3,
   "metadata": {},
   "outputs": [],
   "source": [
    "# For Bash Code\n",
    "os.environ['PROJECT'] = PROJECT\n",
    "os.environ['BUCKET'] = BUCKET\n",
    "os.environ['REGION'] = REGION\n",
    "os.environ['MODEL_NAME'] = MODEL_NAME\n",
    "os.environ['MODEL_VERSION'] = MODEL_VERSION\n",
    "os.environ['TRAINING_DIR'] = TRAINING_DIR \n",
    "os.environ['TFVERSION'] = '1.8'  # Tensorflow version"
   ]
  },
  {
   "cell_type": "code",
   "execution_count": 4,
   "metadata": {},
   "outputs": [
    {
     "name": "stderr",
     "output_type": "stream",
     "text": [
      "Updated property [core/project].\n",
      "Updated property [compute/region].\n"
     ]
    }
   ],
   "source": [
    "%%bash\n",
    "gcloud config set project $PROJECT\n",
    "gcloud config set compute/region $REGION"
   ]
  },
  {
   "cell_type": "markdown",
   "metadata": {},
   "source": [
    "### Create the bucket to store model and training data for deploying to Google Cloud Machine Learning Engine Component"
   ]
  },
  {
   "cell_type": "code",
   "execution_count": null,
   "metadata": {},
   "outputs": [],
   "source": [
    "#%%bash\n",
    "# The bucket needs to exist for the gsutil commands in next cell to work\n",
    "#gsutil mb -p ${PROJECT} gs://${BUCKET}"
   ]
  },
  {
   "cell_type": "markdown",
   "metadata": {},
   "source": [
    "### Enable the Cloud Machine Learning Engine API"
   ]
  },
  {
   "cell_type": "markdown",
   "metadata": {},
   "source": [
    "The next command works with Cloud Machine Learning Engine API.  In order for the command to work, you must enable the API using the Cloud Console UI."
   ]
  },
  {
   "cell_type": "markdown",
   "metadata": {},
   "source": [
    "Allow the Cloud ML Engine service account to read/write to the bucket containing training data."
   ]
  },
  {
   "cell_type": "code",
   "execution_count": 5,
   "metadata": {},
   "outputs": [
    {
     "name": "stdout",
     "output_type": "stream",
     "text": [
      "Getting the service account email associated with the Cloud Machine Learning Engine API\n",
      "Authorizing the Cloud ML Service account service-884408627146@cloud-ml.google.com.iam.gserviceaccount.com to access files in nyc_taxi_fare_cloud_run\n"
     ]
    },
    {
     "name": "stderr",
     "output_type": "stream",
     "text": [
      "  % Total    % Received % Xferd  Average Speed   Time    Time     Time  Current\n",
      "                                 Dload  Upload   Total   Spent    Left  Speed\n",
      "\r",
      "  0     0    0     0    0     0      0      0 --:--:-- --:--:-- --:--:--     0\r",
      "  0     0    0     0    0     0      0      0 --:--:-- --:--:-- --:--:--     0\r",
      "100   237    0   237    0     0    244      0 --:--:-- --:--:-- --:--:--   244\n",
      "No changes to gs://nyc_taxi_fare_cloud_run/\n",
      "No changes to gs://nyc_taxi_fare_cloud_run/taxifare/smallinput/taxi-test.csv\n",
      "No changes to gs://nyc_taxi_fare_cloud_run/taxifare/smallinput/taxi-train.csv\n",
      "No changes to gs://nyc_taxi_fare_cloud_run/taxifare/smallinput/taxi-valid.csv\n",
      "Updated ACL on gs://nyc_taxi_fare_cloud_run/taxifare/smallinput/taxi_trained/\n",
      "Updated ACL on gs://nyc_taxi_fare_cloud_run/taxifare/smallinput/taxi_trained/checkpoint\n",
      "Updated ACL on gs://nyc_taxi_fare_cloud_run/taxifare/smallinput/taxi_trained/eval/events.out.tfevents.1535997996.cmle-training-17516292832578914890\n",
      "Updated ACL on gs://nyc_taxi_fare_cloud_run/taxifare/smallinput/taxi_trained/export/exporter/1535997998/variables/\n",
      "Updated ACL on gs://nyc_taxi_fare_cloud_run/taxifare/smallinput/taxi_trained/eval/\n",
      "Updated ACL on gs://nyc_taxi_fare_cloud_run/taxifare/smallinput/taxi_trained/export/exporter/1535997998/variables/variables.index\n",
      "Updated ACL on gs://nyc_taxi_fare_cloud_run/taxifare/smallinput/taxi_trained/export/\n",
      "Updated ACL on gs://nyc_taxi_fare_cloud_run/taxifare/smallinput/taxi_trained/events.out.tfevents.1535997881.cmle-training-17516292832578914890\n",
      "Updated ACL on gs://nyc_taxi_fare_cloud_run/taxifare/smallinput/taxi_trained/export/exporter/1535998603/\n",
      "Updated ACL on gs://nyc_taxi_fare_cloud_run/taxifare/smallinput/taxi_trained/export/exporter/1535997998/saved_model.pb\n",
      "Updated ACL on gs://nyc_taxi_fare_cloud_run/taxifare/smallinput/taxi_trained/export/exporter/1535997998/variables/variables.data-00000-of-00001\n",
      "Updated ACL on gs://nyc_taxi_fare_cloud_run/taxifare/smallinput/taxi_trained/export/exporter/\n",
      "Updated ACL on gs://nyc_taxi_fare_cloud_run/taxifare/smallinput/taxi_trained/export/exporter/1535998603/saved_model.pb\n",
      "Updated ACL on gs://nyc_taxi_fare_cloud_run/taxifare/smallinput/taxi_trained/export/exporter/1535997998/\n",
      "Updated ACL on gs://nyc_taxi_fare_cloud_run/taxifare/smallinput/taxi_trained/export/exporter/1535998603/variables/variables.data-00000-of-00001\n",
      "Updated ACL on gs://nyc_taxi_fare_cloud_run/taxifare/smallinput/taxi_trained/export/exporter/1535998603/variables/\n",
      "Updated ACL on gs://nyc_taxi_fare_cloud_run/taxifare/smallinput/taxi_trained/export/exporter/1535998980/variables/\n",
      "Updated ACL on gs://nyc_taxi_fare_cloud_run/taxifare/smallinput/taxi_trained/export/exporter/1535998980/\n",
      "Updated ACL on gs://nyc_taxi_fare_cloud_run/taxifare/smallinput/taxi_trained/export/exporter/1535998980/variables/variables.data-00000-of-00001\n",
      "Updated ACL on gs://nyc_taxi_fare_cloud_run/taxifare/smallinput/taxi_trained/export/exporter/1535998603/variables/variables.index\n",
      "Updated ACL on gs://nyc_taxi_fare_cloud_run/taxifare/smallinput/taxi_trained/export/exporter/1535998980/variables/variables.index\n",
      "Updated ACL on gs://nyc_taxi_fare_cloud_run/taxifare/smallinput/taxi_trained/export/exporter/1535998980/saved_model.pb\n",
      "Updated ACL on gs://nyc_taxi_fare_cloud_run/taxifare/smallinput/taxi_trained/graph.pbtxt\n",
      "No changes to gs://nyc_taxi_fare_cloud_run/taxifare_180903_180201/2dc61906d2c03e094d6c87a49650c8ee1e1c99c1c1674f51824d5c5aa7a211e5/trainer-0.0.0.tar.gz\n",
      "Updated ACL on gs://nyc_taxi_fare_cloud_run/taxifare/smallinput/taxi_trained/model.ckpt-1.index\n",
      "Updated ACL on gs://nyc_taxi_fare_cloud_run/taxifare/smallinput/taxi_trained/model.ckpt-1.meta\n",
      "Updated ACL on gs://nyc_taxi_fare_cloud_run/taxifare/smallinput/taxi_trained/model.ckpt-1.data-00000-of-00001\n",
      "Updated ACL on gs://nyc_taxi_fare_cloud_run/taxifare/smallinput/taxi_trained/model.ckpt-10000.index\n",
      "Updated ACL on gs://nyc_taxi_fare_cloud_run/taxifare/smallinput/taxi_trained/model.ckpt-10000.data-00000-of-00001\n",
      "Updated ACL on gs://nyc_taxi_fare_cloud_run/taxifare/smallinput/taxi_trained/model.ckpt-10000.meta\n",
      "Updated ACL on gs://nyc_taxi_fare_cloud_run/taxifare/smallinput/taxi_trained/model.ckpt-6653.data-00000-of-00001\n",
      "Updated ACL on gs://nyc_taxi_fare_cloud_run/taxifare/smallinput/taxi_trained/model.ckpt-6653.meta\n",
      "Updated ACL on gs://nyc_taxi_fare_cloud_run/taxifare/smallinput/taxi_trained/model.ckpt-6653.index\n",
      "No changes to gs://nyc_taxi_fare_cloud_run/\n"
     ]
    }
   ],
   "source": [
    "%%bash\n",
    "# This command will fail if the Cloud Machine Learning Engine API is not enabled using the link above.\n",
    "echo \"Getting the service account email associated with the Cloud Machine Learning Engine API\"\n",
    "\n",
    "AUTH_TOKEN=$(gcloud auth print-access-token)\n",
    "SVC_ACCOUNT=$(curl -X GET -H \"Content-Type: application/json\" \\\n",
    "    -H \"Authorization: Bearer $AUTH_TOKEN\" \\\n",
    "    https://ml.googleapis.com/v1/projects/${PROJECT}:getConfig \\\n",
    "    | python -c \"import json; import sys; response = json.load(sys.stdin); \\\n",
    "    print response['serviceAccount']\")  # If this command fails, the Cloud Machine Learning Engine API has not been enabled above.\n",
    "\n",
    "echo \"Authorizing the Cloud ML Service account $SVC_ACCOUNT to access files in $BUCKET\"\n",
    "gsutil -m defacl ch -u $SVC_ACCOUNT:R gs://$BUCKET   \n",
    "gsutil -m acl ch -u $SVC_ACCOUNT:R -r gs://$BUCKET   # error message (if bucket is empty) can be ignored.  \n",
    "gsutil -m acl ch -u $SVC_ACCOUNT:W gs://$BUCKET      "
   ]
  },
  {
   "cell_type": "markdown",
   "metadata": {},
   "source": [
    "## Packaging up the code\n",
    "\n",
    "Take your code and put into a standard Python package structure.  <a href=\"taxifare/trainer/model.py\">model.py</a> and <a href=\"taxifare/trainer/task.py\">task.py</a> containing the Tensorflow code from earlier (explore the <a href=\"taxifare/trainer/\">directory structure</a>)."
   ]
  },
  {
   "cell_type": "code",
   "execution_count": 6,
   "metadata": {},
   "outputs": [
    {
     "name": "stdout",
     "output_type": "stream",
     "text": [
      "taxifare\n",
      "taxifare/trainer\n",
      "taxifare/trainer/model.py\n",
      "taxifare/trainer/task.py\n",
      "taxifare/trainer/model.pyc\n",
      "taxifare/trainer/__init__.pyc\n",
      "taxifare/trainer/__init__.py\n",
      "taxifare/.ipynb_checkpoints\n"
     ]
    }
   ],
   "source": [
    "%%bash\n",
    "find ${MODEL_NAME}"
   ]
  },
  {
   "cell_type": "code",
   "execution_count": null,
   "metadata": {},
   "outputs": [],
   "source": [
    "%%bash\n",
    "cat ${MODEL_NAME}/trainer/model.py"
   ]
  },
  {
   "cell_type": "code",
   "execution_count": null,
   "metadata": {},
   "outputs": [],
   "source": [
    "%%bash\n",
    "pwd"
   ]
  },
  {
   "cell_type": "markdown",
   "metadata": {},
   "source": [
    "## Find absolute paths to your data"
   ]
  },
  {
   "cell_type": "markdown",
   "metadata": {},
   "source": [
    "Note the absolute paths below. /content is mapped in Datalab to where the home icon takes you"
   ]
  },
  {
   "cell_type": "code",
   "execution_count": 7,
   "metadata": {},
   "outputs": [
    {
     "name": "stdout",
     "output_type": "stream",
     "text": [
      "Working Directory: /content/datalab/NYC_cloud\n",
      "Head of taxi-train.csv\n",
      "8.5,Fri,0,-73.989012,40.763585,-74.003615,40.740253,1,notneeded\n",
      "Head of taxi-valid.csv\n",
      "2.5,Fri,0,-73.991437,40.717318,-73.993938,40.660867,1,notneeded\n"
     ]
    }
   ],
   "source": [
    "%%bash\n",
    "echo \"Working Directory: ${PWD}\"\n",
    "echo \"Head of taxi-train.csv\"\n",
    "head -1 $PWD/taxi-train.csv\n",
    "echo \"Head of taxi-valid.csv\"\n",
    "head -1 $PWD/taxi-valid.csv"
   ]
  },
  {
   "cell_type": "markdown",
   "metadata": {},
   "source": [
    "## Running the Python module from the command-line"
   ]
  },
  {
   "cell_type": "markdown",
   "metadata": {},
   "source": [
    "#### Clean model training dir/output dir"
   ]
  },
  {
   "cell_type": "code",
   "execution_count": 13,
   "metadata": {},
   "outputs": [],
   "source": [
    "%%bash\n",
    "# This is so that the trained model is started fresh each time. However, this needs to be done before \n",
    "# tensorboard is started\n",
    "\n",
    "rm -rf $PWD/${TRAINING_DIR}"
   ]
  },
  {
   "cell_type": "markdown",
   "metadata": {},
   "source": [
    "#### Monitor using Tensorboard"
   ]
  },
  {
   "cell_type": "code",
   "execution_count": null,
   "metadata": {},
   "outputs": [],
   "source": [
    "from google.datalab.ml import TensorBoard\n",
    "TensorBoard().start('taxi_trained')"
   ]
  },
  {
   "cell_type": "markdown",
   "metadata": {},
   "source": [
    "Need to ensure .pyc files are deleted when switching between python2 and python3?"
   ]
  },
  {
   "cell_type": "code",
   "execution_count": 17,
   "metadata": {},
   "outputs": [
    {
     "name": "stdout",
     "output_type": "stream",
     "text": [
      "-rw-r--r-- 1 root root 254427262 Sep  3 16:37 /content/datalab/NYC_cloud/taxi-train.csv\n"
     ]
    }
   ],
   "source": [
    "%%bash\n",
    "ls -lrt /content/datalab/NYC_cloud/taxi-train.csv"
   ]
  },
  {
   "cell_type": "code",
   "execution_count": null,
   "metadata": {},
   "outputs": [],
   "source": [
    "%%bash\n",
    "# Setup python so it sees the task module which controls the model.py\n",
    "export PYTHONPATH=${PYTHONPATH}:${PWD}/${MODEL_NAME}\n",
    "# Currently set for python 2.  To run with python 3 \n",
    "#    1.  Replace 'python' with 'python3' in the following command\n",
    "#    2.  Edit trainer/task.py to reflect proper module import method \n",
    "python -m trainer.task --train_data_paths=${PWD}/taxi-train.csv --eval_data_paths=${PWD}/taxi-valid.csv  --output_dir=${PWD}/${TRAINING_DIR} --train_steps=1000 --job-dir=./tmp"
   ]
  },
  {
   "cell_type": "code",
   "execution_count": null,
   "metadata": {},
   "outputs": [],
   "source": [
    "%%bash\n",
    "ls $PWD/${TRAINING_DIR}/export/exporter/"
   ]
  },
  {
   "cell_type": "code",
   "execution_count": null,
   "metadata": {},
   "outputs": [],
   "source": [
    "%%writefile ./test.json\n",
    "{\"pickuplon\": -73.885262,\"pickuplat\": 40.773008,\"dropofflon\": -73.987232,\"dropofflat\": 40.732403,\"passengers\": 2}"
   ]
  },
  {
   "cell_type": "code",
   "execution_count": null,
   "metadata": {},
   "outputs": [],
   "source": [
    "%%bash\n",
    "# This model dir is the model exported after training and is used for prediction\n",
    "#\n",
    "# For python2 this is suffient.  Need to determine method for python 3.\n",
    "# Does not work for python 3.  TODO:     --pythonVersion=3.5 \\\n",
    "#\n",
    "model_dir=$(ls ${PWD}/${TRAINING_DIR}/export/exporter | tail -1)\n",
    "# predict using the trained model\n",
    "gcloud ml-engine local predict \\\n",
    "    --model-dir=${PWD}/${TRAINING_DIR}/export/exporter/${model_dir} \\\n",
    "    --json-instances=./test.json"
   ]
  },
  {
   "cell_type": "markdown",
   "metadata": {},
   "source": [
    "#### Stop Tensorboard\n",
    "The training directory will be deleted.  Stop the exising tensorboard before removing the directory its using."
   ]
  },
  {
   "cell_type": "code",
   "execution_count": null,
   "metadata": {},
   "outputs": [],
   "source": [
    "pids_df = TensorBoard.list()\n",
    "if not pids_df.empty:\n",
    "    for pid in pids_df['pid']:\n",
    "        TensorBoard().stop(pid)\n",
    "        print 'Stopped TensorBoard with pid {}'.format(pid)"
   ]
  },
  {
   "cell_type": "markdown",
   "metadata": {},
   "source": [
    "## Submit training job using gcloud\n",
    "\n",
    "First copy the training data to the cloud.  Then, launch a training job.\n",
    "\n",
    "After you submit the job, go to the cloud console (http://console.cloud.google.com) and select <b>Machine Learning | Jobs</b> to monitor progress.  \n"
   ]
  },
  {
   "cell_type": "code",
   "execution_count": 20,
   "metadata": {},
   "outputs": [
    {
     "name": "stdout",
     "output_type": "stream",
     "text": [
      "nyc_taxi_fare_cloud_run\n"
     ]
    },
    {
     "name": "stderr",
     "output_type": "stream",
     "text": [
      "CommandException: 1 files/objects could not be removed.\n",
      "Copying file:///content/datalab/NYC_cloud/taxi-train.csv [Content-Type=text/csv]...\n",
      "Copying file:///content/datalab/NYC_cloud/taxi-valid.csv [Content-Type=text/csv]...\n",
      "Copying file:///content/datalab/NYC_cloud/taxi-test.csv [Content-Type=text/csv]...\n",
      "/ [0/3 files][    0.0 B/346.8 MiB]   0% Done                                    \r",
      "/ [0/3 files][    0.0 B/346.8 MiB]   0% Done                                    \r",
      "/ [0/3 files][    0.0 B/346.8 MiB]   0% Done                                    \r",
      "==> NOTE: You are uploading one or more large file(s), which would run\n",
      "significantly faster if you enable parallel composite uploads. This\n",
      "feature can be enabled by editing the\n",
      "\"parallel_composite_upload_threshold\" value in your .boto\n",
      "configuration file. However, note that if you do this large files will\n",
      "be uploaded as `composite objects\n",
      "<https://cloud.google.com/storage/docs/composite-objects>`_,which\n",
      "means that any user who downloads such objects will need to have a\n",
      "compiled crcmod installed (see \"gsutil help crcmod\"). This is because\n",
      "without a compiled crcmod, computing checksums on composite objects is\n",
      "so slow that gsutil disables downloads of composite objects.\n",
      "\n",
      "-\r",
      "- [0/3 files][ 18.1 MiB/346.8 MiB]   5% Done                                    \r",
      "\\\r",
      "|\r",
      "| [0/3 files][ 69.4 MiB/346.8 MiB]  20% Done                                    \r",
      "/\r",
      "/ [0/3 files][120.4 MiB/346.8 MiB]  34% Done                                    \r",
      "-\r",
      "\\\r",
      "\\ [1/3 files][163.2 MiB/346.8 MiB]  47% Done                                    \r",
      "\\ [2/3 files][165.0 MiB/346.8 MiB]  47% Done                                    \r",
      "|\r",
      "/\r",
      "/ [2/3 files][192.8 MiB/346.8 MiB]  55% Done                                    \r",
      "-\r",
      "- [2/3 files][218.1 MiB/346.8 MiB]  62% Done                                    \r",
      "\\\r",
      "|\r",
      "| [2/3 files][238.7 MiB/346.8 MiB]  68% Done                                    \r",
      "/\r",
      "-\r",
      "- [2/3 files][265.8 MiB/346.8 MiB]  76% Done                                    \r",
      "\\\r",
      "\\ [2/3 files][294.4 MiB/346.8 MiB]  84% Done                                    \r",
      "|\r",
      "/\r",
      "/ [2/3 files][321.5 MiB/346.8 MiB]  92% Done                                    \r",
      "-\r",
      "\\\r",
      "\\ [3/3 files][346.8 MiB/346.8 MiB] 100% Done  25.0 MiB/s ETA 00:00:00           \r\n",
      "Operation completed over 3 objects/346.8 MiB.                                    \n"
     ]
    }
   ],
   "source": [
    "%%bash\n",
    "# Clear Cloud Storage bucket and copy the CSV files to Cloud Storage bucket\n",
    "# Run once if data is copied, don't run again\n",
    "echo $BUCKET\n",
    "gsutil -m rm -rf gs://${BUCKET}/${MODEL_NAME}/smallinput/\n",
    "gsutil -m cp ${PWD}/*.csv gs://${BUCKET}/${MODEL_NAME}/smallinput/"
   ]
  },
  {
   "cell_type": "code",
   "execution_count": 8,
   "metadata": {},
   "outputs": [
    {
     "name": "stdout",
     "output_type": "stream",
     "text": [
      "gs://nyc_taxi_fare_cloud_run/taxifare/smallinput/taxi_trained us-east1 taxifare_180904_012512\n",
      "jobId: taxifare_180904_012512\n",
      "state: QUEUED\n"
     ]
    },
    {
     "name": "stderr",
     "output_type": "stream",
     "text": [
      "Removing gs://nyc_taxi_fare_cloud_run/taxifare/smallinput/taxi_trained/#1535998864194457...\n",
      "Removing gs://nyc_taxi_fare_cloud_run/taxifare/smallinput/taxi_trained/export/#1535998000123150...\n",
      "Removing gs://nyc_taxi_fare_cloud_run/taxifare/smallinput/taxi_trained/checkpoint#1535998866836066...\n",
      "Removing gs://nyc_taxi_fare_cloud_run/taxifare/smallinput/taxi_trained/eval/#1535997995887338...\n",
      "Removing gs://nyc_taxi_fare_cloud_run/taxifare/smallinput/taxi_trained/export/exporter/#1535998000420752...\n",
      "Removing gs://nyc_taxi_fare_cloud_run/taxifare/smallinput/taxi_trained/eval/events.out.tfevents.1535997996.cmle-training-17516292832578914890#1535998978894209...\n",
      "Removing gs://nyc_taxi_fare_cloud_run/taxifare/smallinput/taxi_trained/export/exporter/1535997998/#1535998007956245...\n",
      "Removing gs://nyc_taxi_fare_cloud_run/taxifare/smallinput/taxi_trained/export/exporter/1535997998/saved_model.pb#1535998008357731...\n",
      "Removing gs://nyc_taxi_fare_cloud_run/taxifare/smallinput/taxi_trained/export/exporter/1535997998/variables/#1535998008937053...\n",
      "Removing gs://nyc_taxi_fare_cloud_run/taxifare/smallinput/taxi_trained/events.out.tfevents.1535997881.cmle-training-17516292832578914890#1535998868796310...\n",
      "Removing gs://nyc_taxi_fare_cloud_run/taxifare/smallinput/taxi_trained/export/exporter/1535997998/variables/variables.data-00000-of-00001#1535998009510340...\n",
      "Removing gs://nyc_taxi_fare_cloud_run/taxifare/smallinput/taxi_trained/export/exporter/1535997998/variables/variables.index#1535998010073307...\n",
      "/ [1/32 objects]   3% Done                                                      \r",
      "/ [2/32 objects]   6% Done                                                      \r",
      "Removing gs://nyc_taxi_fare_cloud_run/taxifare/smallinput/taxi_trained/export/exporter/1535998603/#1535998611460469...\n",
      "/ [3/32 objects]   9% Done                                                      \r",
      "/ [4/32 objects]  12% Done                                                      \r",
      "Removing gs://nyc_taxi_fare_cloud_run/taxifare/smallinput/taxi_trained/export/exporter/1535998603/saved_model.pb#1535998611873529...\n",
      "/ [5/32 objects]  15% Done                                                      \r",
      "Removing gs://nyc_taxi_fare_cloud_run/taxifare/smallinput/taxi_trained/export/exporter/1535998603/variables/#1535998612287011...\n",
      "/ [6/32 objects]  18% Done                                                      \r",
      "/ [7/32 objects]  21% Done                                                      \r",
      "Removing gs://nyc_taxi_fare_cloud_run/taxifare/smallinput/taxi_trained/export/exporter/1535998603/variables/variables.index#1535998613198523...\n",
      "Removing gs://nyc_taxi_fare_cloud_run/taxifare/smallinput/taxi_trained/export/exporter/1535998603/variables/variables.data-00000-of-00001#1535998612694722...\n",
      "/ [8/32 objects]  25% Done                                                      \r",
      "Removing gs://nyc_taxi_fare_cloud_run/taxifare/smallinput/taxi_trained/export/exporter/1535998980/#1535998988122172...\n",
      "Removing gs://nyc_taxi_fare_cloud_run/taxifare/smallinput/taxi_trained/export/exporter/1535998980/saved_model.pb#1535998988512958...\n",
      "/ [9/32 objects]  28% Done                                                      \r",
      "/ [10/32 objects]  31% Done                                                     \r",
      "Removing gs://nyc_taxi_fare_cloud_run/taxifare/smallinput/taxi_trained/export/exporter/1535998980/variables/#1535998989077552...\n",
      "/ [11/32 objects]  34% Done                                                     \r",
      "/ [12/32 objects]  37% Done                                                     \r",
      "Removing gs://nyc_taxi_fare_cloud_run/taxifare/smallinput/taxi_trained/export/exporter/1535998980/variables/variables.data-00000-of-00001#1535998989493643...\n",
      "Removing gs://nyc_taxi_fare_cloud_run/taxifare/smallinput/taxi_trained/export/exporter/1535998980/variables/variables.index#1535998990143516...\n",
      "/ [13/32 objects]  40% Done                                                     \r",
      "Removing gs://nyc_taxi_fare_cloud_run/taxifare/smallinput/taxi_trained/graph.pbtxt#1535997884974592...\n",
      "Removing gs://nyc_taxi_fare_cloud_run/taxifare/smallinput/taxi_trained/model.ckpt-1.data-00000-of-00001#1535997891533588...\n",
      "/ [14/32 objects]  43% Done                                                     \r",
      "/ [15/32 objects]  46% Done                                                     \r",
      "Removing gs://nyc_taxi_fare_cloud_run/taxifare/smallinput/taxi_trained/model.ckpt-1.index#1535997892026939...\n",
      "/ [16/32 objects]  50% Done                                                     \r",
      "/ [17/32 objects]  53% Done                                                     \r",
      "Removing gs://nyc_taxi_fare_cloud_run/taxifare/smallinput/taxi_trained/model.ckpt-1.meta#1535997894561240...\n",
      "Removing gs://nyc_taxi_fare_cloud_run/taxifare/smallinput/taxi_trained/model.ckpt-10000.data-00000-of-00001#1535998864792840...\n",
      "Removing gs://nyc_taxi_fare_cloud_run/taxifare/smallinput/taxi_trained/model.ckpt-10000.index#1535998865277334...\n",
      "Removing gs://nyc_taxi_fare_cloud_run/taxifare/smallinput/taxi_trained/model.ckpt-10000.meta#1535998868134460...\n",
      "/ [18/32 objects]  56% Done                                                     \r",
      "/ [19/32 objects]  59% Done                                                     \r",
      "Removing gs://nyc_taxi_fare_cloud_run/taxifare/smallinput/taxi_trained/model.ckpt-6653.index#1535998492249366...\n",
      "Removing gs://nyc_taxi_fare_cloud_run/taxifare/smallinput/taxi_trained/model.ckpt-6653.data-00000-of-00001#1535998491652498...\n",
      "/ [20/32 objects]  62% Done                                                     \r",
      "/ [21/32 objects]  65% Done                                                     \r",
      "Removing gs://nyc_taxi_fare_cloud_run/taxifare/smallinput/taxi_trained/model.ckpt-6653.meta#1535998494969242...\n",
      "/ [22/32 objects]  68% Done                                                     \r",
      "/ [23/32 objects]  71% Done                                                     \r",
      "/ [24/32 objects]  75% Done                                                     \r",
      "/ [25/32 objects]  78% Done                                                     \r",
      "/ [26/32 objects]  81% Done                                                     \r",
      "/ [27/32 objects]  84% Done                                                     \r",
      "/ [28/32 objects]  87% Done                                                     \r",
      "/ [29/32 objects]  90% Done                                                     \r",
      "/ [30/32 objects]  93% Done                                                     \r",
      "/ [31/32 objects]  96% Done                                                     \r",
      "/ [32/32 objects] 100% Done                                                     \r\n",
      "Operation completed over 32 objects.                                             \n",
      "Job [taxifare_180904_012512] submitted successfully.\n",
      "Your job is still active. You may view the status of your job with the command\n",
      "\n",
      "  $ gcloud ml-engine jobs describe taxifare_180904_012512\n",
      "\n",
      "or continue streaming the logs with the command\n",
      "\n",
      "  $ gcloud ml-engine jobs stream-logs taxifare_180904_012512\n"
     ]
    }
   ],
   "source": [
    "%%bash\n",
    "OUTDIR=gs://${BUCKET}/${MODEL_NAME}/smallinput/${TRAINING_DIR}\n",
    "JOBNAME=${MODEL_NAME}_$(date -u +%y%m%d_%H%M%S)\n",
    "echo $OUTDIR $REGION $JOBNAME\n",
    "# Clear the Cloud Storage Bucket used for the training job\n",
    "gsutil -m rm -rf $OUTDIR\n",
    "gcloud ml-engine jobs submit training $JOBNAME \\\n",
    "   --region=$REGION \\\n",
    "   --module-name=trainer.task \\\n",
    "   --package-path=${PWD}/${MODEL_NAME}/trainer \\\n",
    "   --job-dir=$OUTDIR \\\n",
    "   --staging-bucket=gs://$BUCKET \\\n",
    "   --scale-tier=BASIC \\\n",
    "   --runtime-version=$TFVERSION \\\n",
    "   -- \\\n",
    "   --train_data_paths=\"gs://${BUCKET}/${MODEL_NAME}/smallinput/taxi-train*\" \\\n",
    "   --eval_data_paths=\"gs://${BUCKET}/${MODEL_NAME}/smallinput/taxi-valid*\"  \\\n",
    "   --output_dir=$OUTDIR \\\n",
    "   --train_steps=350000"
   ]
  },
  {
   "cell_type": "markdown",
   "metadata": {},
   "source": [
    "### Progress can be monitored using TensorBoard, to check the Loss, RMSE on validation data, etc.."
   ]
  },
  {
   "cell_type": "markdown",
   "metadata": {},
   "source": [
    "<li>TensorBoard uploaded on GitHub as pdf files</li>\n",
    "<li>Valdation RMSE here is again around  4.75, since we have only rerun the data in Google Cloud Engine</li>\n",
    "<li>This was an exercise to leverage power of Google Cloud ML engine to get results faster </li>"
   ]
  },
  {
   "cell_type": "code",
   "execution_count": null,
   "metadata": {},
   "outputs": [],
   "source": []
  }
 ],
 "metadata": {
  "kernelspec": {
   "display_name": "Python 2",
   "language": "python",
   "name": "python2"
  },
  "language_info": {
   "codemirror_mode": {
    "name": "ipython",
    "version": 2
   },
   "file_extension": ".py",
   "mimetype": "text/x-python",
   "name": "python",
   "nbconvert_exporter": "python",
   "pygments_lexer": "ipython2",
   "version": "2.7.15"
  }
 },
 "nbformat": 4,
 "nbformat_minor": 1
}
