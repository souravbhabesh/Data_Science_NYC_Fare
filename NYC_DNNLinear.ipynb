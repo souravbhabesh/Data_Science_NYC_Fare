{
 "cells": [
  {
   "cell_type": "markdown",
   "metadata": {},
   "source": [
    "<h1> Importing kaggle data to Google Big Query and running DNNLinearCombinedRegressor estimator using Tensorflow</h1>\n",
    "<li></li>\n",
    "<li>Data Source: https://www.kaggle.com/c/new-york-city-taxi-fare-prediction/data </li>"
   ]
  },
  {
   "cell_type": "code",
   "execution_count": 2,
   "metadata": {},
   "outputs": [
    {
     "name": "stdout",
     "output_type": "stream",
     "text": [
      "1.8.0\n"
     ]
    }
   ],
   "source": [
    "import google.datalab.bigquery as bq\n",
    "import pandas as pd\n",
    "import numpy as np\n",
    "import shutil\n",
    "import tensorflow as tf\n",
    "print(tf.__version__)\n",
    "import datetime"
   ]
  },
  {
   "cell_type": "markdown",
   "metadata": {},
   "source": [
    "### Big Query to get the data from the Big Query table we created using Kaggle train.csv file\n",
    "<li>We extract data using Hash function FARM_FINGERPRINT applied to pickup date time to sample data</li>"
   ]
  },
  {
   "cell_type": "code",
   "execution_count": 4,
   "metadata": {},
   "outputs": [
    {
     "name": "stdout",
     "output_type": "stream",
     "text": [
      "\n",
      "WITH daynames AS\n",
      "  (SELECT ['Sun', 'Mon', 'Tues', 'Wed', 'Thurs', 'Fri', 'Sat'] AS daysofweek)\n",
      "SELECT\n",
      "  fare_amount,\n",
      "  daysofweek[ORDINAL(EXTRACT(DAYOFWEEK FROM pickup_datetime))] AS dayofweek,\n",
      "  EXTRACT(HOUR FROM pickup_datetime) AS hourofday,\n",
      "  pickup_longitude AS pickuplon,\n",
      "  pickup_latitude AS pickuplat,\n",
      "  dropoff_longitude AS dropofflon,\n",
      "  dropoff_latitude AS dropofflat,\n",
      "  passenger_count AS passengers,\n",
      "  'notneeded' AS key    \n",
      "FROM\n",
      "  `nyc-taxi-fare-project.NY_Taxi_home.TrainingNYCTaxi`, daynames\n",
      "WHERE\n",
      "  fare_amount >= 2.5\n",
      "  AND pickup_longitude > -78\n",
      "  AND pickup_longitude < -70\n",
      "  AND dropoff_longitude > -78\n",
      "  AND dropoff_longitude < -70\n",
      "  AND pickup_latitude > 37\n",
      "  AND pickup_latitude < 45\n",
      "  AND dropoff_latitude > 37\n",
      "  AND dropoff_latitude < 45\n",
      "  AND passenger_count > 0\n",
      "  \n",
      "AND MOD(ABS(FARM_FINGERPRINT(CAST(pickup_datetime AS STRING))), 9) = 1\n",
      "AND MOD(ABS(FARM_FINGERPRINT(CAST(pickup_datetime AS STRING))), 9 * 100) >= (9 * 0)\n",
      " AND MOD(ABS(FARM_FINGERPRINT(CAST(pickup_datetime AS STRING))), 9 * 100) < (9 * 70)\n"
     ]
    }
   ],
   "source": [
    "import google.datalab.bigquery as bq\n",
    "def sample_between(a, b):\n",
    "    basequery = \"\"\"\n",
    "WITH daynames AS\n",
    "  (SELECT ['Sun', 'Mon', 'Tues', 'Wed', 'Thurs', 'Fri', 'Sat'] AS daysofweek)\n",
    "SELECT\n",
    "  fare_amount,\n",
    "  daysofweek[ORDINAL(EXTRACT(DAYOFWEEK FROM pickup_datetime))] AS dayofweek,\n",
    "  EXTRACT(HOUR FROM pickup_datetime) AS hourofday,\n",
    "  pickup_longitude AS pickuplon,\n",
    "  pickup_latitude AS pickuplat,\n",
    "  dropoff_longitude AS dropofflon,\n",
    "  dropoff_latitude AS dropofflat,\n",
    "  passenger_count AS passengers,\n",
    "  'notneeded' AS key    \n",
    "FROM\n",
    "  `nyc-taxi-fare-project.NY_Taxi_home.TrainingNYCTaxi`, daynames\n",
    "WHERE\n",
    "  fare_amount >= 2.5\n",
    "  AND pickup_longitude > -78\n",
    "  AND pickup_longitude < -70\n",
    "  AND dropoff_longitude > -78\n",
    "  AND dropoff_longitude < -70\n",
    "  AND pickup_latitude > 37\n",
    "  AND pickup_latitude < 45\n",
    "  AND dropoff_latitude > 37\n",
    "  AND dropoff_latitude < 45\n",
    "  AND passenger_count > 0\n",
    "  \"\"\"  \n",
    "    sampler = \"AND MOD(ABS(FARM_FINGERPRINT(CAST(pickup_datetime AS STRING))), EVERY_N) = 1\"\n",
    "    sampler2 = \"AND {0} >= {1}\\n AND {0} < {2}\".format(\n",
    "           \"MOD(ABS(FARM_FINGERPRINT(CAST(pickup_datetime AS STRING))), EVERY_N * 100)\",\n",
    "           \"(EVERY_N * {})\".format(a), \"(EVERY_N * {})\".format(b)\n",
    "        )\n",
    "    return \"{}\\n{}\\n{}\".format(basequery, sampler, sampler2)\n",
    "\n",
    "def create_query(phase, EVERY_N):\n",
    "  \"\"\"Phase: train (70%) valid (15%) or test (15%)\"\"\"\n",
    "  query = \"\"\n",
    "  if phase == 'train':\n",
    "    # Training\n",
    "    query = sample_between(0, 70)\n",
    "  elif phase == 'valid':\n",
    "    # Validation\n",
    "    query = sample_between(70, 85)\n",
    "  else:\n",
    "    # Test\n",
    "    query = sample_between(85, 100)\n",
    "  return query.replace(\"EVERY_N\", str(EVERY_N))\n",
    "\n",
    "print create_query('train', 9)"
   ]
  },
  {
   "cell_type": "markdown",
   "metadata": {},
   "source": [
    "### Creating three files, train,validate and test csv files"
   ]
  },
  {
   "cell_type": "code",
   "execution_count": null,
   "metadata": {},
   "outputs": [
    {
     "name": "stdout",
     "output_type": "stream",
     "text": [
      "['fare_amount', u'dayofweek', u'hourofday', u'pickuplon', u'pickuplat', u'dropofflon', u'dropofflat', u'passengers', u'key']\n",
      "Wrote 4206779 to taxi-train.csv\n"
     ]
    }
   ],
   "source": [
    "def to_csv(df, filename):\n",
    "  outdf = df.copy(deep = False) #copy by reference\n",
    "  #outdf.loc[:, 'key'] = np.arange(0, len(outdf)) # rownumber as key\n",
    "  # Reorder columns so that target is first column\n",
    "  cols = outdf.columns.tolist() #column names converted into a list\n",
    "  cols.remove('fare_amount') #just remove target column (fare amount) from column list\n",
    "  cols.insert(0, 'fare_amount') #added back as first column\n",
    "  print cols  # new order of columns\n",
    "  outdf = outdf[cols] #df is reordered\n",
    "  outdf.to_csv(filename, header = False, index_label = False, index = False) #since row number itself is index\n",
    "  print \"Wrote {} to {}\".format(len(outdf), filename)\n",
    "\n",
    "for phase in ['train', 'valid', 'test']:\n",
    "  query = create_query(phase, 9)\n",
    "  df = bq.Query(query).execute().result().to_dataframe()\n",
    "  to_csv(df, 'taxi-{}.csv'.format(phase))"
   ]
  },
  {
   "cell_type": "markdown",
   "metadata": {},
   "source": [
    "### Defining input columns, we are going to make new columns using feature engineering"
   ]
  },
  {
   "cell_type": "code",
   "execution_count": 3,
   "metadata": {},
   "outputs": [],
   "source": [
    "tf.logging.set_verbosity(tf.logging.INFO)\n",
    "\n",
    "CSV_COLUMNS = 'fare_amount,dayofweek,hourofday,pickuplon,pickuplat,dropofflon,dropofflat,passengers,key'.split(',')\n",
    "LABEL_COLUMN = 'fare_amount'\n",
    "KEY_FEATURE_COLUMN = 'key'\n",
    "#Replacing null values with defaults\n",
    "DEFAULTS = [[0.0], ['Sun'], [0], [-74.0], [40.0], [-74.0], [40.7], [1.0], ['nokey']]\n",
    "TRAIN_STEPS = 1000\n",
    "\n",
    "# These are the raw input columns, and will be provided for prediction also\n",
    "INPUT_COLUMNS = [\n",
    "    # Define features\n",
    "    tf.feature_column.categorical_column_with_vocabulary_list('dayofweek', vocabulary_list = ['Sun', 'Mon', 'Tues', 'Wed', 'Thu', 'Fri', 'Sat']),\n",
    "    tf.feature_column.categorical_column_with_identity('hourofday', num_buckets = 24),\n",
    "\n",
    "    # Numeric columns\n",
    "    tf.feature_column.numeric_column('pickuplat'),\n",
    "    tf.feature_column.numeric_column('pickuplon'),\n",
    "    tf.feature_column.numeric_column('dropofflat'),\n",
    "    tf.feature_column.numeric_column('dropofflon'),\n",
    "    tf.feature_column.numeric_column('passengers'),\n",
    "    \n",
    "    # Engineered features that are created in the input_fn\n",
    "    tf.feature_column.numeric_column('latdiff'),\n",
    "    tf.feature_column.numeric_column('londiff'),\n",
    "    tf.feature_column.numeric_column('euclidean')\n",
    "]"
   ]
  },
  {
   "cell_type": "markdown",
   "metadata": {},
   "source": [
    "### Build the estimator"
   ]
  },
  {
   "cell_type": "code",
   "execution_count": 4,
   "metadata": {},
   "outputs": [],
   "source": [
    "# Build the estimator\n",
    "def build_estimator(model_dir, nbuckets, hidden_units):\n",
    "    \"\"\"\n",
    "     Build an estimator starting from INPUT COLUMNS.\n",
    "     These include feature transformations and synthetic features.\n",
    "     The model is a wide-and-deep model.\n",
    "  \"\"\"\n",
    "\n",
    "    # Input columns\n",
    "    (dayofweek, hourofday, plat, plon, dlat, dlon, pcount, latdiff, londiff, euclidean) = INPUT_COLUMNS\n",
    "\n",
    "    # Bucketize the lats & lons\n",
    "    latbuckets = np.linspace(38.0, 42.0, nbuckets).tolist()\n",
    "    lonbuckets = np.linspace(-76.0, -72.0, nbuckets).tolist()\n",
    "    b_plat = tf.feature_column.bucketized_column(plat, latbuckets)\n",
    "    b_dlat = tf.feature_column.bucketized_column(dlat, latbuckets)\n",
    "    b_plon = tf.feature_column.bucketized_column(plon, lonbuckets)\n",
    "    b_dlon = tf.feature_column.bucketized_column(dlon, lonbuckets)\n",
    "\n",
    "    # Feature cross\n",
    "    ploc = tf.feature_column.crossed_column([b_plat, b_plon], nbuckets * nbuckets) #setting up grid\n",
    "    dloc = tf.feature_column.crossed_column([b_dlat, b_dlon], nbuckets * nbuckets)\n",
    "    pd_pair = tf.feature_column.crossed_column([ploc, dloc], nbuckets ** 4 )\n",
    "    day_hr =  tf.feature_column.crossed_column([dayofweek, hourofday], 24 * 7)\n",
    "\n",
    "    # Wide columns and deep columns.\n",
    "    wide_columns = [\n",
    "        # Feature crosses \n",
    "        dloc, ploc, pd_pair,\n",
    "        day_hr,\n",
    "\n",
    "        # Sparse columns (#less options)\n",
    "        dayofweek, hourofday,\n",
    "\n",
    "        # Anything with a linear relationship\n",
    "        pcount \n",
    "    ]\n",
    "\n",
    "    deep_columns = [\n",
    "        # Embedding_column to \"group\" together ...\n",
    "        tf.feature_column.embedding_column(pd_pair, 10), #embedding_column in tf goes from pd_pair options to 10 options (controlled PCA)\n",
    "        tf.feature_column.embedding_column(day_hr, 10),\n",
    "\n",
    "        # Numeric columns\n",
    "        plat, plon, dlat, dlon,\n",
    "        latdiff, londiff, euclidean\n",
    "    ]\n",
    "\n",
    "    \n",
    "    EVAL_INTERVAL = 30\n",
    "    run_config = tf.estimator.RunConfig(save_checkpoints_secs = EVAL_INTERVAL,\n",
    "                                      keep_checkpoint_max = 10)\n",
    "    #Defining the estimator\n",
    "    estimator = tf.estimator.DNNLinearCombinedRegressor(\n",
    "        model_dir = model_dir,\n",
    "        linear_feature_columns = wide_columns,\n",
    "        dnn_feature_columns = deep_columns,\n",
    "        dnn_hidden_units = hidden_units,\n",
    "        config = run_config)\n",
    "\n",
    "    # add extra evaluation metric for hyperparameter tuning\n",
    "    estimator = tf.contrib.estimator.add_metrics(estimator, add_eval_metrics)\n",
    "    return estimator\n",
    "  \n",
    "  \n",
    "### Evaluation metric function\n",
    "def add_eval_metrics(labels, predictions):\n",
    "  pred_values = predictions['predictions']\n",
    "  return {\n",
    "        'rmse': tf.metrics.root_mean_squared_error(labels, pred_values)\n",
    "          }"
   ]
  },
  {
   "cell_type": "markdown",
   "metadata": {},
   "source": [
    "### Feature Engineering functions"
   ]
  },
  {
   "cell_type": "code",
   "execution_count": 5,
   "metadata": {},
   "outputs": [],
   "source": [
    "# Create feature engineering function that will be used in the input and serving input functions\n",
    "def add_engineered(features):\n",
    "    # this is how you can do feature engineering in TensorFlow\n",
    "    lat1 = features['pickuplat']\n",
    "    lat2 = features['dropofflat']\n",
    "    lon1 = features['pickuplon']\n",
    "    lon2 = features['dropofflon']\n",
    "    latdiff = (lat1 - lat2)\n",
    "    londiff = (lon1 - lon2)\n",
    "    \n",
    "    # set features for distance with sign that indicates direction\n",
    "    features['latdiff'] = latdiff\n",
    "    features['londiff'] = londiff\n",
    "    dist = tf.sqrt(latdiff * latdiff + londiff * londiff)\n",
    "    features['euclidean'] = dist\n",
    "    return features"
   ]
  },
  {
   "cell_type": "code",
   "execution_count": 6,
   "metadata": {},
   "outputs": [],
   "source": [
    "# Create serving input function to be able to serve predictions\n",
    "def serving_input_fn():\n",
    "    feature_placeholders = {\n",
    "        # All the real-valued columns\n",
    "        column.name: tf.placeholder(tf.float32, [None]) for column in INPUT_COLUMNS[2:]\n",
    "    }\n",
    "    feature_placeholders['dayofweek'] = tf.placeholder(tf.string, [None])\n",
    "    feature_placeholders['hourofday'] = tf.placeholder(tf.int32, [None])\n",
    "\n",
    "    features = {\n",
    "        key: tf.expand_dims(tensor, -1)\n",
    "        for key, tensor in feature_placeholders.items()\n",
    "    }\n",
    "    return tf.estimator.export.ServingInputReceiver(add_engineered(features), feature_placeholders)\n",
    "\n",
    "# Create input function to load data into datasets\n",
    "def read_dataset(filename, mode, batch_size = 512):\n",
    "    def _input_fn():\n",
    "        def decode_csv(value_column):\n",
    "            columns = tf.decode_csv(value_column, record_defaults = DEFAULTS)\n",
    "            features = dict(zip(CSV_COLUMNS, columns))\n",
    "            label = features.pop(LABEL_COLUMN)\n",
    "            return add_engineered(features), label\n",
    "        \n",
    "        # Create list of files that match pattern\n",
    "        file_list = tf.gfile.Glob(filename)\n",
    "\n",
    "        # Create dataset from file list\n",
    "        dataset = tf.data.TextLineDataset(file_list).map(decode_csv)\n",
    "\n",
    "        if mode == tf.estimator.ModeKeys.TRAIN:\n",
    "            num_epochs = None # indefinitely\n",
    "            dataset = dataset.shuffle(buffer_size = 10 * batch_size)\n",
    "        else:\n",
    "            num_epochs = 1 # end-of-input after this\n",
    "\n",
    "        dataset = dataset.repeat(num_epochs).batch(batch_size)\n",
    "        batch_features, batch_labels = dataset.make_one_shot_iterator().get_next()\n",
    "        return batch_features, batch_labels\n",
    "    return _input_fn\n",
    "\n",
    "\n"
   ]
  },
  {
   "cell_type": "markdown",
   "metadata": {},
   "source": [
    "# Create estimator train and evaluate function\n",
    "<li>This function trains and evvaluates simultaneously on the validation data</li>"
   ]
  },
  {
   "cell_type": "code",
   "execution_count": 7,
   "metadata": {},
   "outputs": [],
   "source": [
    "    \n",
    "    # Create estimator to train and evaluate\n",
    "def train_and_evaluate(args):\n",
    "  EVAL_INTERVAL = 30\n",
    "  run_config = tf.estimator.RunConfig(save_checkpoints_secs = args['eval_interval'],\n",
    "                                      keep_checkpoint_max = 3)\n",
    "  estimator = build_estimator(args['output_dir'], args['nbuckets'], args['hidden_units'])\n",
    "  '''estimator = tf.estimator.DNNRegressor(\n",
    "                       model_dir = output_dir,\n",
    "                       feature_columns = INPUT_COLUMNS,\n",
    "                       hidden_units = [64, 32],\n",
    "                       config = run_config)\n",
    "  '''\n",
    "  train_spec = tf.estimator.TrainSpec(\n",
    "                       input_fn = read_dataset('taxi-train.csv', mode = tf.estimator.ModeKeys.TRAIN),\n",
    "                       max_steps = args['train_steps'])\n",
    "  exporter = tf.estimator.LatestExporter('exporter', serving_input_fn) # exporting the latest learnt model\n",
    "  eval_spec = tf.estimator.EvalSpec(\n",
    "                       input_fn = read_dataset('taxi-valid.csv', mode = tf.estimator.ModeKeys.EVAL),\n",
    "                       steps = None,\n",
    "                       start_delay_secs = 10, # start evaluating after N seconds\n",
    "                       throttle_secs = args['eval_interval'],  # evaluate every N seconds\n",
    "                       exporters = exporter)\n",
    " # eval_predict = estimator.predict(\n",
    " #                      input_fn = read_dataset('taxi-valid.csv', mode = tf.estimator.ModeKeys.PREDICT))\n",
    " # print(eval_predict.next())\n",
    "  tf.estimator.train_and_evaluate(estimator, train_spec, eval_spec)"
   ]
  },
  {
   "cell_type": "code",
   "execution_count": 8,
   "metadata": {},
   "outputs": [],
   "source": [
    "### Defining the args dict\n",
    "args = {'output_dir':'NYC_model',\n",
    "       'nbuckets':16,\n",
    "       'hidden_units':[64,64,64,8],\n",
    "        'train_steps':500000, #418168\n",
    "        'train_epochs':1,\n",
    "       'train_data_paths':'taxi-train.csv',\n",
    "        'eval_data_paths':'taxi-valid.csv',\n",
    "       'train_batch_size':512,\n",
    "       'eval_batch_size':512,\n",
    "        'epochs_per_eval':1,\n",
    "        'eval_interval':360\n",
    "       }"
   ]
  },
  {
   "cell_type": "code",
   "execution_count": 9,
   "metadata": {},
   "outputs": [
    {
     "data": {
      "text/html": [
       "<p>TensorBoard was started successfully with pid 157. Click <a href=\"/_proxy/50169/\" target=\"_blank\">here</a> to access it.</p>"
      ]
     },
     "metadata": {},
     "output_type": "display_data"
    },
    {
     "data": {
      "text/plain": [
       "157"
      ]
     },
     "execution_count": 9,
     "metadata": {},
     "output_type": "execute_result"
    }
   ],
   "source": [
    "from google.datalab.ml import TensorBoard \n",
    "TensorBoard().start('NYC_model')"
   ]
  },
  {
   "cell_type": "markdown",
   "metadata": {},
   "source": [
    "### Using only build estimator to make the model"
   ]
  },
  {
   "cell_type": "code",
   "execution_count": null,
   "metadata": {
    "hiddenCell": true
   },
   "outputs": [],
   "source": [
    "# Run the model\n",
    "#shutil.rmtree('NYC_model', ignore_errors = True) # start fresh each time\n",
    "model_nyc = train_and_evaluate(args)"
   ]
  },
  {
   "cell_type": "code",
   "execution_count": 13,
   "metadata": {},
   "outputs": [
    {
     "name": "stdout",
     "output_type": "stream",
     "text": [
      "INFO:tensorflow:Using config: {'_save_checkpoints_secs': 30, '_session_config': None, '_keep_checkpoint_max': 10, '_task_type': 'worker', '_train_distribute': None, '_is_chief': True, '_cluster_spec': <tensorflow.python.training.server_lib.ClusterSpec object at 0x7f74149db050>, '_evaluation_master': '', '_save_checkpoints_steps': None, '_keep_checkpoint_every_n_hours': 10000, '_service': None, '_num_ps_replicas': 0, '_tf_random_seed': None, '_master': '', '_num_worker_replicas': 1, '_task_id': 0, '_log_step_count_steps': 100, '_model_dir': 'NYC_model', '_global_id_in_cluster': 0, '_save_summary_steps': 100}\n",
      "INFO:tensorflow:Using config: {'_save_checkpoints_secs': 30, '_session_config': None, '_keep_checkpoint_max': 10, '_task_type': 'worker', '_train_distribute': None, '_is_chief': True, '_cluster_spec': <tensorflow.python.training.server_lib.ClusterSpec object at 0x7f74135e1ad0>, '_evaluation_master': '', '_save_checkpoints_steps': None, '_keep_checkpoint_every_n_hours': 10000, '_service': None, '_num_ps_replicas': 0, '_tf_random_seed': None, '_master': '', '_num_worker_replicas': 1, '_task_id': 0, '_log_step_count_steps': 100, '_model_dir': 'NYC_model', '_global_id_in_cluster': 0, '_save_summary_steps': 100}\n"
     ]
    }
   ],
   "source": [
    "#Loading the trained model for prediction\n",
    "model = build_estimator(args['output_dir'], args['nbuckets'], args['hidden_units'])"
   ]
  },
  {
   "cell_type": "markdown",
   "metadata": {},
   "source": [
    "### Making new predictions on the test data "
   ]
  },
  {
   "cell_type": "code",
   "execution_count": 14,
   "metadata": {},
   "outputs": [
    {
     "name": "stdout",
     "output_type": "stream",
     "text": [
      "INFO:tensorflow:Calling model_fn.\n",
      "INFO:tensorflow:Calling model_fn.\n",
      "INFO:tensorflow:Done calling model_fn.\n",
      "INFO:tensorflow:Done calling model_fn.\n",
      "INFO:tensorflow:Graph was finalized.\n",
      "INFO:tensorflow:Restoring parameters from NYC_model/model.ckpt-400000\n",
      "INFO:tensorflow:Running local_init_op.\n",
      "INFO:tensorflow:Done running local_init_op.\n",
      "('RMSE on test data : ', 4.9347470890678204)\n"
     ]
    }
   ],
   "source": [
    "predictions = model.predict(input_fn = read_dataset('taxi-test.csv', mode = tf.estimator.ModeKeys.PREDICT))\n",
    "predict_dnn=[]\n",
    "test_dnn = []\n",
    "taxitest = pd.read_csv(\"taxi-test.csv\")\n",
    "faretest = taxitest.iloc[:,0]\n",
    "for i in range(len(taxitest)):\n",
    "  predict_dnn.append(predictions.next()['predictions'][0]) #list\n",
    "  test_dnn.append(faretest[i])\n",
    "  #print(predictions.next())\n",
    "  \n",
    "print('RMSE on test data : ',np.sqrt(np.mean(np.power((np.array(test_dnn)-np.array(predict_dnn)),2))))\n",
    "\n",
    "df = pd.DataFrame({\"fare_amount\":predict_dnn})\n",
    "#print(predict_dnn)\n",
    "#print(test_dnn)"
   ]
  },
  {
   "cell_type": "markdown",
   "metadata": {},
   "source": [
    "### RMSE on test data : 4.9347470890678204"
   ]
  },
  {
   "cell_type": "markdown",
   "metadata": {},
   "source": [
    "### Comparing RMSE on validation data set from different models used"
   ]
  },
  {
   "cell_type": "code",
   "execution_count": 18,
   "metadata": {},
   "outputs": [
    {
     "data": {
      "image/png": "[encoded data removed]",
      "text/plain": [
       "<matplotlib.figure.Figure at 0x7f7d097c8410>"
      ]
     },
     "metadata": {},
     "output_type": "display_data"
    }
   ],
   "source": [
    "import matplotlib.pyplot as plt; plt.rcdefaults()\n",
    "import numpy as np\n",
    "import matplotlib.pyplot as plt\n",
    " \n",
    "objects = ('Basic' , 'Linear Regressor', 'DNN', 'DNN Linear')\n",
    "y_pos = np.arange(len(objects))\n",
    "performance = [18.5216,9.4996,9.4908, 4.79]\n",
    " \n",
    "plt.bar(y_pos, performance, align='center', alpha=0.5)\n",
    "plt.xticks(y_pos, objects)\n",
    "plt.ylabel('RMSE')\n",
    "plt.title('RMSE on Validation data for different models')\n",
    " \n",
    "plt.show()"
   ]
  },
  {
   "cell_type": "code",
   "execution_count": null,
   "metadata": {},
   "outputs": [],
   "source": []
  }
 ],
 "metadata": {
  "kernelspec": {
   "display_name": "Python 2",
   "language": "python",
   "name": "python2"
  },
  "language_info": {
   "codemirror_mode": {
    "name": "ipython",
    "version": 2
   },
   "file_extension": ".py",
   "mimetype": "text/x-python",
   "name": "python",
   "nbconvert_exporter": "python",
   "pygments_lexer": "ipython2",
   "version": "2.7.15"
  }
 },
 "nbformat": 4,
 "nbformat_minor": 2
}
